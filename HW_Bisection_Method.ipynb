{
  "cells": [
    {
      "cell_type": "markdown",
      "id": "5a35da4d-4e0b-48d2-9441-85380f3c30d0",
      "metadata": {
        "id": "5a35da4d-4e0b-48d2-9441-85380f3c30d0"
      },
      "source": [
        "# The Bisection Method\n",
        "\n",
        "Write/complete the python program below to perform the Bisection Method. Use it for the following problems.\n",
        "\n",
        "1. Find an approximation to within $10^{-5}$ to a value in $[0.5,1.5]$ with $e^{x}-2 = \\cos(e^{x}-2$).\n",
        "\n",
        "\n",
        "2. Find an approximation to within $10^{-5}$ to the first positive value of $x$ with $x= \\tan{x}$.\n",
        "\n",
        "**To evalute cells, type shift + enter.**"
      ]
    },
    {
      "cell_type": "code",
      "execution_count": 1,
      "id": "163fb8c4-d79e-478b-98c6-adf781bffe5e",
      "metadata": {
        "id": "163fb8c4-d79e-478b-98c6-adf781bffe5e"
      },
      "outputs": [],
      "source": [
        "import numpy as np\n",
        "import math\n",
        "from matplotlib import pyplot as plt\n",
        "from ipywidgets import interactive, fixed"
      ]
    },
    {
      "cell_type": "code",
      "execution_count": 2,
      "id": "779913c8-f28e-4282-8c00-a9e6acc1b2b8",
      "metadata": {
        "id": "779913c8-f28e-4282-8c00-a9e6acc1b2b8"
      },
      "outputs": [],
      "source": [
        "# Bisection Method\n",
        "# Computes approximate solution of f(x) = 0\n",
        "# Input: a,b such that f(a)*f(b)<0 and tolerance tol\n",
        "# Output: Approximate solution xc\n",
        "def bisect(a,b,tol):\n",
        "\n",
        "    fa = f(a)\n",
        "    fb = f(b)\n",
        "\n",
        "    # Check sign change on [a,b].\n",
        "    product = fa * fb\n",
        "    if product >= 0:\n",
        "        print(\"f(a)f(b)<0 not satisfied: f(a)*f(b) = \",product,\">= 0\")\n",
        "        return\n",
        "\n",
        "    count = 0\n",
        "    while (b-a)/2 > tol:\n",
        "\n",
        "        count = count + 1\n",
        "        # new midpoint\n",
        "        c  = (a+b)/2\n",
        "        fc = f(c)\n",
        "        print(\"n = \",count,\":\",\"c = \",c)\n",
        "\n",
        "        # establish new interval containing root\n",
        "        if fc == 0:\n",
        "            return c\n",
        "        if fa*fc < 0:\n",
        "            b = c\n",
        "            fb = fc\n",
        "        else:\n",
        "            a = c\n",
        "            fa = fc\n",
        "\n",
        "    c = (a+b)/2\n",
        "    print(\"n = \",count+1,\":\",\"c = \",c)\n",
        "\n",
        "    return c"
      ]
    },
    {
      "cell_type": "markdown",
      "id": "92196047-ce28-47db-ac3b-6ad1ab81c366",
      "metadata": {
        "id": "92196047-ce28-47db-ac3b-6ad1ab81c366"
      },
      "source": [
        "1. $$e^{x}-2 - \\cos(e^{x}-2) = 0\\quad \\text{on}\\quad [0.5,1.5]\\quad \\text{within tolerance of}\\quad 10^{-5}$$"
      ]
    },
    {
      "cell_type": "code",
      "source": [
        "def f(x):\n",
        "  return math.exp(x) - 2 - math.cos(math.exp(x) - 2)\n",
        "\n",
        "bisect(0.5, 1.5, 10**-5)"
      ],
      "metadata": {
        "id": "zXIPOiJiR2DN",
        "outputId": "654ee078-48f6-412c-df52-c232a138d512",
        "colab": {
          "base_uri": "https://localhost:8080/"
        }
      },
      "id": "zXIPOiJiR2DN",
      "execution_count": 3,
      "outputs": [
        {
          "output_type": "stream",
          "name": "stdout",
          "text": [
            "n =  1 : c =  1.0\n",
            "n =  2 : c =  1.25\n",
            "n =  3 : c =  1.125\n",
            "n =  4 : c =  1.0625\n",
            "n =  5 : c =  1.03125\n",
            "n =  6 : c =  1.015625\n",
            "n =  7 : c =  1.0078125\n",
            "n =  8 : c =  1.00390625\n",
            "n =  9 : c =  1.005859375\n",
            "n =  10 : c =  1.0068359375\n",
            "n =  11 : c =  1.00732421875\n",
            "n =  12 : c =  1.007568359375\n",
            "n =  13 : c =  1.0076904296875\n",
            "n =  14 : c =  1.00762939453125\n",
            "n =  15 : c =  1.007598876953125\n",
            "n =  16 : c =  1.0076141357421875\n",
            "n =  17 : c =  1.0076217651367188\n"
          ]
        },
        {
          "output_type": "execute_result",
          "data": {
            "text/plain": [
              "1.0076217651367188"
            ]
          },
          "metadata": {},
          "execution_count": 3
        }
      ]
    },
    {
      "cell_type": "markdown",
      "id": "b0841945-7cbc-4ad0-9256-651fad5daddd",
      "metadata": {
        "id": "b0841945-7cbc-4ad0-9256-651fad5daddd"
      },
      "source": [
        "2. $$x= \\tan{x}\\quad \\text{on}\\quad [a,b]\\quad \\text{within tolerance of}\\quad 10^{-5}$$"
      ]
    },
    {
      "cell_type": "code",
      "source": [
        "def f(x):\n",
        "  return x - math.tan(x)\n",
        "\n",
        "a = 4.4\n",
        "b = 4.5\n",
        "\n",
        "bisect(a, b, 10**-5)"
      ],
      "metadata": {
        "colab": {
          "base_uri": "https://localhost:8080/"
        },
        "id": "jTPY2s7NOz6o",
        "outputId": "c80bb515-7cce-4630-f68f-d0bd0f2b5fc5"
      },
      "id": "jTPY2s7NOz6o",
      "execution_count": 9,
      "outputs": [
        {
          "output_type": "stream",
          "name": "stdout",
          "text": [
            "n =  1 : c =  4.45\n",
            "n =  2 : c =  4.475\n",
            "n =  3 : c =  4.4875\n",
            "n =  4 : c =  4.49375\n",
            "n =  5 : c =  4.490625\n",
            "n =  6 : c =  4.4921875\n",
            "n =  7 : c =  4.49296875\n",
            "n =  8 : c =  4.493359375000001\n",
            "n =  9 : c =  4.4935546875000005\n",
            "n =  10 : c =  4.493457031250001\n",
            "n =  11 : c =  4.493408203125001\n",
            "n =  12 : c =  4.493432617187501\n",
            "n =  13 : c =  4.493420410156251\n",
            "n =  14 : c =  4.493414306640625\n"
          ]
        },
        {
          "output_type": "execute_result",
          "data": {
            "text/plain": [
              "4.493414306640625"
            ]
          },
          "metadata": {},
          "execution_count": 9
        }
      ]
    },
    {
      "cell_type": "code",
      "source": [],
      "metadata": {
        "id": "oqOFJd3kQN5w"
      },
      "id": "oqOFJd3kQN5w",
      "execution_count": null,
      "outputs": []
    }
  ],
  "metadata": {
    "kernelspec": {
      "display_name": "Python 3 (ipykernel)",
      "language": "python",
      "name": "python3"
    },
    "language_info": {
      "codemirror_mode": {
        "name": "ipython",
        "version": 3
      },
      "file_extension": ".py",
      "mimetype": "text/x-python",
      "name": "python",
      "nbconvert_exporter": "python",
      "pygments_lexer": "ipython3",
      "version": "3.13.3"
    },
    "colab": {
      "provenance": []
    }
  },
  "nbformat": 4,
  "nbformat_minor": 5
}