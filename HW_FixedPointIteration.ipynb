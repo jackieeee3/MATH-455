{
  "cells": [
    {
      "cell_type": "markdown",
      "id": "5a35da4d-4e0b-48d2-9441-85380f3c30d0",
      "metadata": {
        "id": "5a35da4d-4e0b-48d2-9441-85380f3c30d0"
      },
      "source": [
        "# Fixed Point Iteration\n",
        "\n",
        "Write/complete the Python code below to perform Fixed Point Iteration to find the solution to the following equations.\n",
        "\n",
        "1. $$e^x + x = 7$$\n",
        "2. $$e^x + \\sin(x) = 4$$\n",
        "\n",
        "**To evalute cells, type shift + enter.**"
      ]
    },
    {
      "cell_type": "code",
      "execution_count": 18,
      "id": "163fb8c4-d79e-478b-98c6-adf781bffe5e",
      "metadata": {
        "id": "163fb8c4-d79e-478b-98c6-adf781bffe5e"
      },
      "outputs": [],
      "source": [
        "import numpy as np\n",
        "import math\n",
        "from matplotlib import pyplot as plt\n",
        "from ipywidgets import interactive, fixed"
      ]
    },
    {
      "cell_type": "code",
      "execution_count": 19,
      "id": "779913c8-f28e-4282-8c00-a9e6acc1b2b8",
      "metadata": {
        "id": "779913c8-f28e-4282-8c00-a9e6acc1b2b8"
      },
      "outputs": [],
      "source": [
        "# Fixed-Point Iteration\n",
        "# Computes approximate solution of g(x) = x\n",
        "# Input: starting guess p0,\n",
        "#        number of steps k\n",
        "# Output: Approximate solution pn\n",
        "def fpi(p0,k):\n",
        "\n",
        "    # initialize\n",
        "    pn = np.zeros(k+1)\n",
        "\n",
        "    pn[0] = p0\n",
        "    print(\"n = \",0,\":\",\"pn = \",pn[0])\n",
        "    for i in range(k):\n",
        "        pn[i+1] = g(pn[i])\n",
        "        print(\"n = \",i+1,\":\",\"pn = \",pn[i+1])\n",
        "\n",
        "    return pn\n"
      ]
    },
    {
      "cell_type": "markdown",
      "source": [
        "$$e^x + x = 7$$"
      ],
      "metadata": {
        "id": "2hf5XYaGodBj"
      },
      "id": "2hf5XYaGodBj"
    },
    {
      "cell_type": "code",
      "execution_count": 20,
      "id": "d7b51d43-104c-4a48-b878-465866ed9a66",
      "metadata": {
        "id": "d7b51d43-104c-4a48-b878-465866ed9a66",
        "outputId": "ccf8aecd-f28c-4856-ce23-0bf4ec6f6074",
        "colab": {
          "base_uri": "https://localhost:8080/"
        }
      },
      "outputs": [
        {
          "output_type": "stream",
          "name": "stdout",
          "text": [
            "n =  0 : pn =  0.5\n",
            "n =  1 : pn =  1.8718021769015913\n",
            "n =  2 : pn =  1.6347542959215655\n",
            "n =  3 : pn =  1.679942172625491\n",
            "n =  4 : pn =  1.6714841731017156\n",
            "n =  5 : pn =  1.6730727429096666\n",
            "n =  6 : pn =  1.6727745723301424\n",
            "n =  7 : pn =  1.672830544980136\n",
            "n =  8 : pn =  1.6728200380202176\n",
            "n =  9 : pn =  1.6728220103527378\n",
            "n =  10 : pn =  1.6728216401131553\n",
            "n =  11 : pn =  1.6728217096132865\n",
            "n =  12 : pn =  1.6728216965669558\n"
          ]
        },
        {
          "output_type": "execute_result",
          "data": {
            "text/plain": [
              "array([0.5       , 1.87180218, 1.6347543 , 1.67994217, 1.67148417,\n",
              "       1.67307274, 1.67277457, 1.67283054, 1.67282004, 1.67282201,\n",
              "       1.67282164, 1.67282171, 1.6728217 ])"
            ]
          },
          "metadata": {},
          "execution_count": 20
        }
      ],
      "source": [
        "# Function for which fixed point is needed.\n",
        "def g(x):\n",
        "    gvalue = np.log(7 - x)\n",
        "    return gvalue\n",
        "\n",
        "fpi(0.5,12)"
      ]
    },
    {
      "cell_type": "markdown",
      "source": [
        "$$e^x + \\sin(x) = 4$$"
      ],
      "metadata": {
        "id": "eqyJiV-M1jjG"
      },
      "id": "eqyJiV-M1jjG"
    },
    {
      "cell_type": "code",
      "execution_count": 21,
      "id": "bfa27adf-5aa2-401d-a256-f7b55ffde520",
      "metadata": {
        "id": "bfa27adf-5aa2-401d-a256-f7b55ffde520",
        "outputId": "5b6b8a5c-7c8c-44c1-cb36-0e86fda9e368",
        "colab": {
          "base_uri": "https://localhost:8080/"
        }
      },
      "outputs": [
        {
          "output_type": "stream",
          "name": "stdout",
          "text": [
            "n =  0 : pn =  0.5\n",
            "n =  1 : pn =  1.2586241755546248\n",
            "n =  2 : pn =  1.1145943293442588\n",
            "n =  3 : pn =  1.1321334095686988\n",
            "n =  4 : pn =  1.129684388462581\n",
            "n =  5 : pn =  1.1300213245858635\n",
            "n =  6 : pn =  1.129974871689108\n",
            "n =  7 : pn =  1.1299812742400686\n",
            "n =  8 : pn =  1.1299803917485864\n",
            "n =  9 : pn =  1.1299805133855652\n",
            "n =  10 : pn =  1.1299804966198899\n",
            "n =  11 : pn =  1.1299804989307647\n",
            "n =  12 : pn =  1.1299804986122481\n"
          ]
        },
        {
          "output_type": "execute_result",
          "data": {
            "text/plain": [
              "array([0.5       , 1.25862418, 1.11459433, 1.13213341, 1.12968439,\n",
              "       1.13002132, 1.12997487, 1.12998127, 1.12998039, 1.12998051,\n",
              "       1.1299805 , 1.1299805 , 1.1299805 ])"
            ]
          },
          "metadata": {},
          "execution_count": 21
        }
      ],
      "source": [
        "# Function for which fixed point is needed.\n",
        "def g(x):\n",
        "    gvalue = np.log(4 - np.sin(x))\n",
        "    return gvalue\n",
        "\n",
        "fpi(0.5,12)"
      ]
    }
  ],
  "metadata": {
    "kernelspec": {
      "display_name": "Python 3 (ipykernel)",
      "language": "python",
      "name": "python3"
    },
    "language_info": {
      "codemirror_mode": {
        "name": "ipython",
        "version": 3
      },
      "file_extension": ".py",
      "mimetype": "text/x-python",
      "name": "python",
      "nbconvert_exporter": "python",
      "pygments_lexer": "ipython3",
      "version": "3.13.3"
    },
    "colab": {
      "provenance": []
    }
  },
  "nbformat": 4,
  "nbformat_minor": 5
}